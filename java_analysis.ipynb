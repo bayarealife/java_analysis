{
 "cells": [
  {
   "cell_type": "code",
   "execution_count": 80,
   "metadata": {},
   "outputs": [],
   "source": [
    "import glob\n",
    "import os\n",
    "import re\n",
    "import regex\n",
    "import pandas as pd"
   ]
  },
  {
   "cell_type": "code",
   "execution_count": 81,
   "metadata": {},
   "outputs": [],
   "source": [
    "all_files = glob.glob(os.path.join('', \"./Javascript/*\")) "
   ]
  },
  {
   "cell_type": "code",
   "execution_count": 115,
   "metadata": {},
   "outputs": [],
   "source": [
    "data_dict = {}\n",
    "columns = ['name', 'space_text_ratio','comments','unicode_count','function_count','decode_encode_count','val_count','label']\n",
    "func_list = ['GetCookie\\(', '.split\\(', 'createXMLHTTPRequest\\(', '.toGMTString\\(', 'document.createElement\\(', 'document.write\\(', '.appendChild\\(', 'escape\\(', 'eval\\(', 'exec\\(', 'getUserAgent\\(', 'link\\(', '.replace\\(', 'search\\(', 'setCookie\\(', 'unescape\\(']\n",
    "df = pd.DataFrame(columns=columns)\n",
    "\n",
    "for f in all_files:\n",
    "    with open(f, \"r\", encoding='utf-8') as infile:\n",
    "        tmp_dict = {}\n",
    "        data = infile.read()\n",
    "        data_dict['name'] = f.strip().split('/')[3]\n",
    "        data_dict['space_text_ratio'] = data.count(' ') / len(data)\n",
    "        data_dict['comments'] = (len(re.findall('(\\/\\*)', data)))\n",
    "        data_dict['unicode_count'] = len(re.findall(r'\\\\u[0-9A-F]+|\\\\x[0-9A-F]+', data, re.I))\n",
    "        data_dict['function_count'] = len(re.compile( '|'.join(func_list) ).findall(data))\n",
    "        data_dict['decode_encode_count'] = len(re.findall('decode|encode', data))\n",
    "        data_dict['val_count'] = len(re.findall('\\.val\\(', data))\n",
    "        data_dict['iframe_count'] = len(re.findall('iframe', data))\n",
    "        data_dict['label'] = 0\n",
    "    df=df.append(data_dict, ignore_index = True)\n"
   ]
  },
  {
   "cell_type": "code",
   "execution_count": 116,
   "metadata": {},
   "outputs": [
    {
     "data": {
      "text/html": [
       "<div>\n",
       "<style scoped>\n",
       "    .dataframe tbody tr th:only-of-type {\n",
       "        vertical-align: middle;\n",
       "    }\n",
       "\n",
       "    .dataframe tbody tr th {\n",
       "        vertical-align: top;\n",
       "    }\n",
       "\n",
       "    .dataframe thead th {\n",
       "        text-align: right;\n",
       "    }\n",
       "</style>\n",
       "<table border=\"1\" class=\"dataframe\">\n",
       "  <thead>\n",
       "    <tr style=\"text-align: right;\">\n",
       "      <th></th>\n",
       "      <th>name</th>\n",
       "      <th>space_text_ratio</th>\n",
       "      <th>comments</th>\n",
       "      <th>unicode_count</th>\n",
       "      <th>function_count</th>\n",
       "    </tr>\n",
       "  </thead>\n",
       "  <tbody>\n",
       "    <tr>\n",
       "      <th>0</th>\n",
       "      <td>bundle_2.0.14.js</td>\n",
       "      <td>0.015328</td>\n",
       "      <td>9</td>\n",
       "      <td>3331</td>\n",
       "      <td>6.0</td>\n",
       "    </tr>\n",
       "    <tr>\n",
       "      <th>1</th>\n",
       "      <td>enimerotiko.gr.txt</td>\n",
       "      <td>0.014238</td>\n",
       "      <td>0</td>\n",
       "      <td>8</td>\n",
       "      <td>20.0</td>\n",
       "    </tr>\n",
       "    <tr>\n",
       "      <th>2</th>\n",
       "      <td>game7106.gourluck11.live_java_scraped.txt</td>\n",
       "      <td>0.010378</td>\n",
       "      <td>0</td>\n",
       "      <td>4</td>\n",
       "      <td>0.0</td>\n",
       "    </tr>\n",
       "    <tr>\n",
       "      <th>3</th>\n",
       "      <td>jquery-lite-8.js</td>\n",
       "      <td>0.005291</td>\n",
       "      <td>0</td>\n",
       "      <td>0</td>\n",
       "      <td>0.0</td>\n",
       "    </tr>\n",
       "    <tr>\n",
       "      <th>4</th>\n",
       "      <td>jquery.js</td>\n",
       "      <td>0.014260</td>\n",
       "      <td>1</td>\n",
       "      <td>5</td>\n",
       "      <td>14.0</td>\n",
       "    </tr>\n",
       "    <tr>\n",
       "      <th>5</th>\n",
       "      <td>share.js</td>\n",
       "      <td>0.031162</td>\n",
       "      <td>0</td>\n",
       "      <td>0</td>\n",
       "      <td>5.0</td>\n",
       "    </tr>\n",
       "    <tr>\n",
       "      <th>6</th>\n",
       "      <td>tcc_l.combined.1.0.6.min.js</td>\n",
       "      <td>0.043846</td>\n",
       "      <td>1</td>\n",
       "      <td>0</td>\n",
       "      <td>3.0</td>\n",
       "    </tr>\n",
       "    <tr>\n",
       "      <th>7</th>\n",
       "      <td>xmoviesforyou.video_js.txt</td>\n",
       "      <td>0.006975</td>\n",
       "      <td>1</td>\n",
       "      <td>2295</td>\n",
       "      <td>17.0</td>\n",
       "    </tr>\n",
       "  </tbody>\n",
       "</table>\n",
       "</div>"
      ],
      "text/plain": [
       "                                        name  space_text_ratio comments  \\\n",
       "0                           bundle_2.0.14.js          0.015328        9   \n",
       "1                         enimerotiko.gr.txt          0.014238        0   \n",
       "2  game7106.gourluck11.live_java_scraped.txt          0.010378        0   \n",
       "3                           jquery-lite-8.js          0.005291        0   \n",
       "4                                  jquery.js          0.014260        1   \n",
       "5                                   share.js          0.031162        0   \n",
       "6                tcc_l.combined.1.0.6.min.js          0.043846        1   \n",
       "7                 xmoviesforyou.video_js.txt          0.006975        1   \n",
       "\n",
       "  unicode_count  function_count  \n",
       "0          3331             6.0  \n",
       "1             8            20.0  \n",
       "2             4             0.0  \n",
       "3             0             0.0  \n",
       "4             5            14.0  \n",
       "5             0             5.0  \n",
       "6             0             3.0  \n",
       "7          2295            17.0  "
      ]
     },
     "execution_count": 116,
     "metadata": {},
     "output_type": "execute_result"
    }
   ],
   "source": [
    "df"
   ]
  },
  {
   "cell_type": "code",
   "execution_count": 77,
   "metadata": {},
   "outputs": [
    {
     "data": {
      "text/plain": [
       "'(/\\\\/\\\\*[\\\\s\\\\S]*?\\\\*\\\\/|([^:]|^)\\\\/\\\\/.*$)'"
      ]
     },
     "execution_count": 77,
     "metadata": {},
     "output_type": "execute_result"
    }
   ],
   "source": [
    "Table 2. List of Malicious JavaScript Functions \n",
    "Function Call Pattern Intension SetCookie() Set cookie to mark \n",
    "GetCookie() Check Cookie \n",
    "String.split()\tString operation\tHide intent-encode/encrypt\n",
    "createXMLHTTPRequest() Download exploit file to Local System \n",
    "dateObject.toGMTString() generate time String used in cookie newActiveXObject create new Active Object \n",
    "document.createElement() create new document \n",
    "document.write()\tDOM operation\tEmbed malicious script\n",
    "element.appendChild() append new element to current one \n",
    "escape()\n",
    "eval()\n",
    "exec()\n",
    "getUserAgent()\tCheck browser\tTarget specific browser\n",
    "link()\n",
    "location.replace()\tChange current URL\tRedirect to malicious URL\n",
    "search()\n",
    "setCookie()\tCookie access\tManipulate Cookie\n",
    "unescape() Obfuscation to evade checking document.write() Generate dynamic document content "
   ]
  },
  {
   "cell_type": "code",
   "execution_count": 114,
   "metadata": {},
   "outputs": [
    {
     "data": {
      "text/plain": [
       "17"
      ]
     },
     "execution_count": 114,
     "metadata": {},
     "output_type": "execute_result"
    }
   ],
   "source": [
    "# re.findall(\"exec\\(\", data)\n"
   ]
  },
  {
   "cell_type": "code",
   "execution_count": null,
   "metadata": {},
   "outputs": [],
   "source": []
  }
 ],
 "metadata": {
  "kernelspec": {
   "display_name": "Python 3",
   "language": "python",
   "name": "python3"
  },
  "language_info": {
   "codemirror_mode": {
    "name": "ipython",
    "version": 3
   },
   "file_extension": ".py",
   "mimetype": "text/x-python",
   "name": "python",
   "nbconvert_exporter": "python",
   "pygments_lexer": "ipython3",
   "version": "3.6.9"
  }
 },
 "nbformat": 4,
 "nbformat_minor": 2
}
